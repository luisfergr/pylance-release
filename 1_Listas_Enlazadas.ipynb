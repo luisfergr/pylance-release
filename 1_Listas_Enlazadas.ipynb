{
  "nbformat": 4,
  "nbformat_minor": 0,
  "metadata": {
    "colab": {
      "name": "1.Listas Enlazadas.ipynb",
      "provenance": [],
      "collapsed_sections": [],
      "authorship_tag": "ABX9TyNdp75RK+AB2XUot7I9OSjD",
      "include_colab_link": true
    },
    "kernelspec": {
      "name": "python3",
      "display_name": "Python 3"
    },
    "language_info": {
      "name": "python"
    }
  },
  "cells": [
    {
      "cell_type": "markdown",
      "metadata": {
        "id": "view-in-github",
        "colab_type": "text"
      },
      "source": [
        "<a href=\"https://colab.research.google.com/github/luisfergr/pylance-release/blob/main/1_Listas_Enlazadas.ipynb\" target=\"_parent\"><img src=\"https://colab.research.google.com/assets/colab-badge.svg\" alt=\"Open In Colab\"/></a>"
      ]
    },
    {
      "cell_type": "markdown",
      "metadata": {
        "id": "8f-DdMraxCIx"
      },
      "source": [
        "**Listas Enlazadas**\n"
      ]
    },
    {
      "cell_type": "markdown",
      "metadata": {
        "id": "HUnOBMFyzWUT"
      },
      "source": [
        "**Definicion de la clase Estudiante**"
      ]
    },
    {
      "cell_type": "code",
      "metadata": {
        "id": "3OxBSjTjxIX8"
      },
      "source": [
        "class estudiante:\n",
        "  def __init__(self, carne, nombre, edad, direccion, telefono, email, carrera, puesto):\n",
        "    self.carne = carne\n",
        "    self.nombre = nombre\n",
        "    self.edad = edad\n",
        "    self.direccion = direccion\n",
        "    self.telefono = telefono\n",
        "    self.email = email\n",
        "    self.carrera = carrera\n",
        "    self.puesto = puesto"
      ],
      "execution_count": 3,
      "outputs": []
    },
    {
      "cell_type": "markdown",
      "metadata": {
        "id": "068XYb8zzayD"
      },
      "source": [
        "**Definicion de la clase Nodo**"
      ]
    },
    {
      "cell_type": "code",
      "metadata": {
        "id": "6IT1YAtLzd0X"
      },
      "source": [
        "class nodo:\n",
        "  def __init__(self, estudiante=None, siguiente=None):\n",
        "    self.estudiante = estudiante\n",
        "    self.siguiente = siguiente"
      ],
      "execution_count": 4,
      "outputs": []
    },
    {
      "cell_type": "markdown",
      "metadata": {
        "id": "otW51Nyk3Hy1"
      },
      "source": [
        ""
      ]
    },
    {
      "cell_type": "markdown",
      "metadata": {
        "id": "T8TjIwh43Mxy"
      },
      "source": [
        "**Definicion de la Lista Enlazada**"
      ]
    },
    {
      "cell_type": "code",
      "metadata": {
        "id": "g3pvyrwQ3J0d"
      },
      "source": [
        "class lista_enlazada:\n",
        "    def __init__(self):\n",
        "      self.primero = None #se inicializa la lista\n",
        "\n",
        "    def insertar(self, estudiante):\n",
        "      if self.primero is None: #Si primero esta vacia.\n",
        "        self.primero = nodo(estudiante = estudiante) \n",
        "        return\n",
        "      actual = self.primero \n",
        "      while actual.siguiente: \n",
        "        actual = actual.siguiente \n",
        "      actual.siguiente = nodo(estudiante=estudiante)\n",
        "\n",
        "    def recorrer(self):\n",
        "      actual = self.primero\n",
        "      while actual != None:\n",
        "        print(\"carne: \", actual.estudiante.carne, \"nombre: \", actual.estudiante.nombre, \"email: \", actual.estudiante.email, \"->\" )\n",
        "        actual = actual.siguiente\n",
        "    \n",
        "    def eliminar(self, carne):\n",
        "      actual = self.primero\n",
        "      anterior = None\n",
        "      \n",
        "      while actual and actual.estudiante.carne != carne:\n",
        "        anterior = actual\n",
        "        actual = actual.siguiente\n",
        "      if anterior is None:\n",
        "        self.primero=actual.siguiente\n",
        "        actual.siguiente=None\n",
        "      elif actual:\n",
        "        anterior.siguiente=actual.siguiente\n",
        "        actual.siguiente=None\n",
        "\n",
        "    def buscar(self,carne):\n",
        "      actual=self.primero\n",
        "      \n",
        "      while actual !=None: \n",
        "        if actual.estudiante.carne == carne:\n",
        "           print(\"carne: \", actual.estudiante.carne, \"nombre: \", actual.estudiante.nombre, \"email: \", actual.estudiante.email, \"->\" )\n",
        "           break\n",
        "        else:\n",
        "          actual = actual.siguiente\n",
        "\n",
        "        \n",
        "          \n",
        "\n",
        "\n",
        "        \n",
        "\n",
        "        ##tareas-ipc2\n",
        "        ##tarea-1 cuaderno"
      ],
      "execution_count": 60,
      "outputs": []
    },
    {
      "cell_type": "markdown",
      "metadata": {
        "id": "Y_KjD9fs4gWz"
      },
      "source": [
        "Gerson > Karen > Luis"
      ]
    },
    {
      "cell_type": "markdown",
      "metadata": {
        "id": "jxLOeJ-Gs0TS"
      },
      "source": [
        "\n",
        "**Creacion de objetos Estudiante**\n",
        "\n"
      ]
    },
    {
      "cell_type": "code",
      "metadata": {
        "id": "PAktQv3ps6v0"
      },
      "source": [
        "e1 = estudiante(201915059, \"Gerson Ortiz\", 20, \"9 calle 10-02 zona 1\", 24400101, \"gerson.ortiz@gmail.com\", \"Ingenieria en Sistemas\", \"Progaramador Jr\")\n",
        "e2 = estudiante(201915060, \"Karen Hurtarte\", 21, \"7 calle 10-02 zona 1\", 24400102, \"karen.hurtarte@gmail.com\", \"Ingenieria en Sistemas\", \"Progaramador Jr\")\n",
        "e3 = estudiante(201915061, \"Luis Mendez\", 22, \"8 calle 10-02 zona 1\", 24400103, \"luis.mendez@gmail.com\", \"Ingenieria en Sistemas\", \"Progaramador Jr\")"
      ],
      "execution_count": 21,
      "outputs": []
    },
    {
      "cell_type": "markdown",
      "metadata": {
        "id": "VmJymkI1ugr9"
      },
      "source": [
        "**Insercion**"
      ]
    },
    {
      "cell_type": "code",
      "metadata": {
        "id": "ab9mq-wKuUFO"
      },
      "source": [
        "lista_e = lista_enlazada()\n",
        "lista_e.insertar(e1)\n",
        "lista_e.insertar(e2)\n",
        "lista_e.insertar(e3)"
      ],
      "execution_count": 22,
      "outputs": []
    },
    {
      "cell_type": "markdown",
      "metadata": {
        "id": "CaCFVqmwut8B"
      },
      "source": [
        "**Recorrer la lista**"
      ]
    },
    {
      "cell_type": "code",
      "metadata": {
        "colab": {
          "base_uri": "https://localhost:8080/"
        },
        "id": "Q0jb6jdZuwch",
        "outputId": "e4603061-d18b-4769-cea9-c85e737f5f78"
      },
      "source": [
        "lista_e.recorrer()"
      ],
      "execution_count": 23,
      "outputs": [
        {
          "output_type": "stream",
          "text": [
            "carne:  201915059 nombre:  Gerson Ortiz email:  gerson.ortiz@gmail.com ->\n",
            "carne:  201915060 nombre:  Karen Hurtarte email:  karen.hurtarte@gmail.com ->\n",
            "carne:  201915061 nombre:  Luis Mendez email:  luis.mendez@gmail.com ->\n"
          ],
          "name": "stdout"
        }
      ]
    },
    {
      "cell_type": "markdown",
      "metadata": {
        "id": "xlARQ7X6wjTR"
      },
      "source": [
        "**Eliminar un nodo de la lista**"
      ]
    },
    {
      "cell_type": "code",
      "metadata": {
        "colab": {
          "base_uri": "https://localhost:8080/"
        },
        "id": "71hWcSUjwozJ",
        "outputId": "1ce32769-7ac6-4685-ea3a-f99363d57b9e"
      },
      "source": [
        "lista_e.eliminar(201915060)\n",
        "lista_e.recorrer()\n"
      ],
      "execution_count": 24,
      "outputs": [
        {
          "output_type": "stream",
          "text": [
            "carne:  201915059 nombre:  Gerson Ortiz email:  gerson.ortiz@gmail.com ->\n",
            "carne:  201915061 nombre:  Luis Mendez email:  luis.mendez@gmail.com ->\n"
          ],
          "name": "stdout"
        }
      ]
    },
    {
      "cell_type": "markdown",
      "metadata": {
        "id": "KDIo5GIW92-B"
      },
      "source": [
        "**Buscar un nodo de la lista**"
      ]
    },
    {
      "cell_type": "code",
      "metadata": {
        "colab": {
          "base_uri": "https://localhost:8080/"
        },
        "id": "w-dNsHfh95at",
        "outputId": "402e1eeb-8642-4f6e-ce58-e7dd0d3cdf5d"
      },
      "source": [
        "lista_e.buscar(201915061)\n",
        "\n",
        "\n"
      ],
      "execution_count": 68,
      "outputs": [
        {
          "output_type": "stream",
          "text": [
            "carne:  201915061 nombre:  Luis Mendez email:  luis.mendez@gmail.com ->\n"
          ],
          "name": "stdout"
        }
      ]
    },
    {
      "cell_type": "code",
      "metadata": {
        "id": "8meMXalI9_bF"
      },
      "source": [
        ""
      ],
      "execution_count": null,
      "outputs": []
    }
  ]
}